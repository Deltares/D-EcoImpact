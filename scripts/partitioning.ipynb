{
 "cells": [
  {
   "cell_type": "code",
   "execution_count": 99,
   "metadata": {},
   "outputs": [],
   "source": [
    "import glob\n",
    "from pathlib import Path\n",
    "import regex as re"
   ]
  },
  {
   "cell_type": "code",
   "execution_count": 125,
   "metadata": {},
   "outputs": [
    {
     "name": "stdout",
     "output_type": "stream",
     "text": [
      "{'0000': WindowsPath('C:/Users/vries_cy/Github/D-EcoImpact/tests_acceptance/input_nc_files/partitioning/small_subset_FM-VZM_0000_map.nc'), '0001': WindowsPath('C:/Users/vries_cy/Github/D-EcoImpact/tests_acceptance/input_nc_files/partitioning/small_subset_FM-VZM_0001_map.nc'), '0002': WindowsPath('C:/Users/vries_cy/Github/D-EcoImpact/tests_acceptance/input_nc_files/partitioning/small_subset_FM-VZM_0002_map.nc'), '0003': WindowsPath('C:/Users/vries_cy/Github/D-EcoImpact/tests_acceptance/input_nc_files/partitioning/small_subset_FM-VZM_0003_map.nc')}\n"
     ]
    }
   ],
   "source": [
    "filename = r\"C:\\Users\\vries_cy\\Github\\D-EcoImpact\\tests_acceptance\\input_nc_files\\partitioning\\small_subset_FM-VZM_*_map.nc\"\n",
    "filename = Path(filename)\n",
    "name_list = filename.parent.glob(filename.name)\n",
    "names = {}\n",
    "for name in name_list:\n",
    "    part = re.findall(filename.name.replace('*', '(.*)'), name.as_posix())\n",
    "    names[part[0]] = name\n",
    "print(names)\n",
    "# print(name_list)"
   ]
  },
  {
   "cell_type": "code",
   "execution_count": null,
   "metadata": {},
   "outputs": [],
   "source": []
  }
 ],
 "metadata": {
  "kernelspec": {
   "display_name": "ecoimp",
   "language": "python",
   "name": "python3"
  },
  "language_info": {
   "codemirror_mode": {
    "name": "ipython",
    "version": 3
   },
   "file_extension": ".py",
   "mimetype": "text/x-python",
   "name": "python",
   "nbconvert_exporter": "python",
   "pygments_lexer": "ipython3",
   "version": "3.11.3"
  }
 },
 "nbformat": 4,
 "nbformat_minor": 2
}
